{
 "cells": [
  {
   "cell_type": "markdown",
   "id": "346def67",
   "metadata": {},
   "source": [
    "# PROBLEM STATEMENT :\n",
    "###### You are given two tables: “Users” and “ActivityLog”. The “Users” table includes valuable information such as user identities, including their unique user IDs, names, and corresponding email addresses. On the other hand, the “ActivityLog” table contains a complete log of various user activities, including log IDs, associated user IDs, the type of activity performed, and precise timestamps of when each activity occurred.\n",
    "\n",
    "###### Your task is to extract and analyze the user activity data within the designated timeframe of the past 30 days. You are required to write an SQL query to retrieve relevant user activity records that occurred in the last 30 days.\n"
   ]
  },
  {
   "cell_type": "code",
   "execution_count": 1,
   "id": "2f29e078",
   "metadata": {},
   "outputs": [],
   "source": [
    "#Importing required library\n",
    "import mysql.connector"
   ]
  },
  {
   "cell_type": "code",
   "execution_count": 2,
   "id": "7f03a15c",
   "metadata": {},
   "outputs": [],
   "source": [
    "#Create connection with python and mysql server\n",
    "mydb=mysql.connector.connect(\n",
    "host=\"127.0.0.1\",\n",
    "user=\"root\",\n",
    "passwd=\"Anurag1@\")"
   ]
  },
  {
   "cell_type": "code",
   "execution_count": 3,
   "id": "faa61214",
   "metadata": {},
   "outputs": [],
   "source": [
    "db=mydb.cursor()"
   ]
  },
  {
   "cell_type": "code",
   "execution_count": 4,
   "id": "91efe5e1",
   "metadata": {},
   "outputs": [],
   "source": [
    "db.execute(\"DROP DATABASE User_activity\")\n",
    "db.execute(\"CREATE DATABASE User_activity\")\n"
   ]
  },
  {
   "cell_type": "code",
   "execution_count": 5,
   "id": "af5e484c",
   "metadata": {},
   "outputs": [],
   "source": [
    "db.execute(\"USE User_activity\")"
   ]
  },
  {
   "cell_type": "markdown",
   "id": "5f283b62",
   "metadata": {},
   "source": [
    "First, let's create the input tables for our sql database"
   ]
  },
  {
   "cell_type": "code",
   "execution_count": 6,
   "id": "04c05523",
   "metadata": {},
   "outputs": [],
   "source": [
    "#CREATE USER TABLE\n",
    "db.execute('''CREATE TABLE Users (\n",
    "  user_id INT,\n",
    "  name VARCHAR(50),\n",
    "  email VARCHAR(100)\n",
    ");\n",
    "''')"
   ]
  },
  {
   "cell_type": "code",
   "execution_count": 7,
   "id": "3d1e7398",
   "metadata": {},
   "outputs": [],
   "source": [
    "#CREATE TABLE ACTIVITY LOG\n",
    "db.execute('''CREATE TABLE ActivityLog (\n",
    "  log_id INT,\n",
    "  user_id INT,\n",
    "  activity_type VARCHAR(50),\n",
    "  timestamp DATETIME\n",
    ");''')"
   ]
  },
  {
   "cell_type": "code",
   "execution_count": 8,
   "id": "4a95810b",
   "metadata": {},
   "outputs": [],
   "source": [
    "#INSERTING RECORDS INTO USERS TABLE\n",
    "db.execute('''INSERT INTO Users (user_id, name, email)\n",
    "VALUES\n",
    "  (1, 'Rahul', 'rahul@example.com'),\n",
    "  (2, 'Priya', 'priya@example.com'),\n",
    "  (3, 'Amit', 'amit@example.com'),\n",
    "  (4, 'Sneha', 'sneha@example.com'),\n",
    "  (5, 'Gaurav', 'gaurav@example.com'),\n",
    "  (6, 'Anika', 'anika@example.com');''')\n",
    "mydb.commit()"
   ]
  },
  {
   "cell_type": "code",
   "execution_count": 9,
   "id": "fbfa57fd",
   "metadata": {},
   "outputs": [],
   "source": [
    "#INSERTING RECORDS INTO ACTIVITY LOG\n",
    "db.execute('''INSERT INTO ActivityLog (log_id, user_id, activity_type, timestamp)\n",
    "VALUES\n",
    "  (1, 1, 'login', '2023-06-10 09:00:00'),\n",
    "  (2, 1, 'search', '2023-06-10 09:15:00'),\n",
    "  (3, 2, 'login', '2023-06-10 10:00:00'),\n",
    "  (4, 3, 'login', '2023-06-11 11:00:00'),\n",
    "  (5, 1, 'purchase', '2023-06-12 14:30:00'),\n",
    "  (6, 2, 'search', '2023-06-15 16:45:00'),\n",
    "  (7, 1, 'logout', '2023-06-18 20:00:00'),\n",
    "  (8, 1, 'login', '2023-01-15 10:30:00'),\n",
    "  (9, 2, 'search', '2023-02-05 14:45:00'),\n",
    "  (10, 3, 'purchase', '2023-03-20 09:15:00'),\n",
    "  (11, 1, 'search', '2023-04-10 16:30:00'),\n",
    "  (12, 2, 'login', '2023-05-05 11:45:00'),\n",
    "  (13, 3, 'search', '2023-06-15 08:30:00');''')"
   ]
  },
  {
   "cell_type": "code",
   "execution_count": 10,
   "id": "1da5e035",
   "metadata": {},
   "outputs": [],
   "source": [
    "mydb.commit()"
   ]
  },
  {
   "cell_type": "markdown",
   "id": "880e4135",
   "metadata": {},
   "source": [
    " Now here’s how to solve the User Activity Analysis problem using SQL:"
   ]
  },
  {
   "cell_type": "code",
   "execution_count": 11,
   "id": "6ec7a9f2",
   "metadata": {},
   "outputs": [
    {
     "name": "stdout",
     "output_type": "stream",
     "text": [
      "('user_id', 'name', 'email', 'activity_type', 'timestamp')\n",
      "(1, 'Rahul', 'rahul@example.com', 'logout', datetime.datetime(2023, 6, 18, 20, 0))\n",
      "(1, 'Rahul', 'rahul@example.com', 'purchase', datetime.datetime(2023, 6, 12, 14, 30))\n",
      "(1, 'Rahul', 'rahul@example.com', 'search', datetime.datetime(2023, 6, 10, 9, 15))\n",
      "(1, 'Rahul', 'rahul@example.com', 'login', datetime.datetime(2023, 6, 10, 9, 0))\n",
      "(2, 'Priya', 'priya@example.com', 'search', datetime.datetime(2023, 6, 15, 16, 45))\n",
      "(2, 'Priya', 'priya@example.com', 'login', datetime.datetime(2023, 6, 10, 10, 0))\n",
      "(3, 'Amit', 'amit@example.com', 'search', datetime.datetime(2023, 6, 15, 8, 30))\n",
      "(3, 'Amit', 'amit@example.com', 'login', datetime.datetime(2023, 6, 11, 11, 0))\n"
     ]
    }
   ],
   "source": [
    "db.execute('''SELECT U.user_id, U.name, U.email, A.activity_type, A.timestamp\n",
    "FROM Users U\n",
    "JOIN ActivityLog A ON U.user_id = A.user_id\n",
    "WHERE A.timestamp >= DATE_SUB(CURRENT_TIMESTAMP(), INTERVAL 30 DAY);''')\n",
    "column_names=db.column_names\n",
    "rows=db.fetchall()\n",
    "print(column_names)\n",
    "for row in rows:\n",
    "    print(row)"
   ]
  },
  {
   "cell_type": "code",
   "execution_count": null,
   "id": "e7606006",
   "metadata": {},
   "outputs": [],
   "source": []
  }
 ],
 "metadata": {
  "kernelspec": {
   "display_name": "Python 3 (ipykernel)",
   "language": "python",
   "name": "python3"
  },
  "language_info": {
   "codemirror_mode": {
    "name": "ipython",
    "version": 3
   },
   "file_extension": ".py",
   "mimetype": "text/x-python",
   "name": "python",
   "nbconvert_exporter": "python",
   "pygments_lexer": "ipython3",
   "version": "3.11.1"
  }
 },
 "nbformat": 4,
 "nbformat_minor": 5
}
